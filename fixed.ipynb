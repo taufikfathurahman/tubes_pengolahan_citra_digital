{
 "cells": [
  {
   "cell_type": "code",
   "execution_count": 1,
   "metadata": {},
   "outputs": [],
   "source": [
    "import cv2 as cv\n",
    "import numpy as np"
   ]
  },
  {
   "cell_type": "code",
   "execution_count": 2,
   "metadata": {},
   "outputs": [],
   "source": [
    "img = cv.imread('3d_pokemon.png',0)"
   ]
  },
  {
   "cell_type": "code",
   "execution_count": 3,
   "metadata": {},
   "outputs": [],
   "source": [
    "default_structure = np.ones((3,3))"
   ]
  },
  {
   "cell_type": "code",
   "execution_count": null,
   "metadata": {},
   "outputs": [],
   "source": [
    "def idx_check(index):\n",
    "    if index < 0:\n",
    "        return 0\n",
    "    else:\n",
    "        return index"
   ]
  },
  {
   "cell_type": "code",
   "execution_count": null,
   "metadata": {},
   "outputs": [],
   "source": [
    "def dilation(binary_img_matrix = None, structuring_element = default_structure):\n",
    "    binary_img_matrix = np.asarray(binary_img_matrix)\n",
    "    structuring_element = np.asarray(structuring_element)\n",
    "    ste_shp = structuring_element.shape\n",
    "    dilated_img = np.zeros((binary_img_matrix.shape[0], binary_img_matrix.shape[1]))\n",
    "    ste_origin = ((structuring_element.shape[0]-1)/2, (structuring_element.shape[1]-1)/2)\n",
    "    for i in range(len(binary_img_matrix)):\n",
    "        for j in range(len(binary_img_matrix[0])):\n",
    "            overlap = binary_img_matrix[idx_check(i - ste_origin[0]):i + (ste_shp[0] - ste_origin[0]), idx_check(j - ste_origin[1]):j + (ste_shp[1] - ste_origin[1])]\n",
    "            shp = overlap.shape\n",
    "\n",
    "            ste_first_row_idx = int(np.fabs(i - ste_origin[0])) if i - ste_origin[0] < 0 else 0\n",
    "            ste_first_col_idx = int(np.fabs(j - ste_origin[1])) if j - ste_origin[1] < 0 else 0\n",
    "\n",
    "            ste_last_row_idx = ste_shp[0] - 1 - (i + (ste_shp[0] - ste_origin[0]) - binary_img_matrix.shape[0]) if i + (ste_shp[0] - ste_origin[0]) > binary_img_matrix.shape[0] else ste_shp[0]-1\n",
    "            ste_last_col_idx = ste_shp[1] - 1 - (j + (ste_shp[1] - ste_origin[1]) - binary_img_matrix.shape[1]) if j + (ste_shp[1] - ste_origin[1]) > binary_img_matrix.shape[1] else ste_shp[1]-1\n",
    "\n",
    "            if shp[0] != 0 and shp[1] != 0 and np.logical_and(structuring_element[ste_first_row_idx:ste_last_row_idx+1, ste_first_col_idx:ste_last_col_idx+1], overlap).any():\n",
    "                dilated_img[i, j] = 1\n",
    "    return dilated_img"
   ]
  },
  {
   "cell_type": "code",
   "execution_count": null,
   "metadata": {},
   "outputs": [],
   "source": [
    "def erosion(binary_img_matrix = None, structuring_element = default_structure):\n",
    "    binary_img_matrix = np.asarray(binary_img_matrix)\n",
    "    structuring_element = np.asarray(structuring_element)\n",
    "    ste_shp = structuring_element.shape\n",
    "    eroded_img = np.zeros((binary_img_matrix.shape[0], binary_img_matrix.shape[1]))\n",
    "    ste_origin = (int(np.ceil((structuring_element.shape[0] - 1) / 2.0)), int(np.ceil((structuring_element.shape[1] - 1) / 2.0)))\n",
    "    for i in range(len(binary_img_matrix)):\n",
    "        for j in range(len(binary_img_matrix[0])):\n",
    "            overlap = binary_img_matrix[idx_check(i - ste_origin[0]):i + (ste_shp[0] - ste_origin[0]),\n",
    "                      idx_check(j - ste_origin[1]):j + (ste_shp[1] - ste_origin[1])]\n",
    "            shp = overlap.shape\n",
    "            ste_first_row_idx = int(np.fabs(i - ste_origin[0])) if i - ste_origin[0] < 0 else 0\n",
    "            ste_first_col_idx = int(np.fabs(j - ste_origin[1])) if j - ste_origin[1] < 0 else 0\n",
    "\n",
    "            ste_last_row_idx = ste_shp[0] - 1 - (i + (ste_shp[0] - ste_origin[0]) - binary_img_matrix.shape[0]) if i + (ste_shp[0] - ste_origin[0]) > binary_img_matrix.shape[0] else ste_shp[0]-1\n",
    "            ste_last_col_idx = ste_shp[1] - 1 - (j + (ste_shp[1] - ste_origin[1]) - binary_img_matrix.shape[1]) if j + (ste_shp[1] - ste_origin[1]) > binary_img_matrix.shape[1] else ste_shp[1]-1\n",
    "\n",
    "            if shp[0] != 0 and shp[1] != 0 and np.array_equal(np.logical_and(overlap, structuring_element[ste_first_row_idx:ste_last_row_idx+1,\n",
    "                                                                       ste_first_col_idx:ste_last_col_idx+1]),structuring_element[ste_first_row_idx:ste_last_row_idx+1,\n",
    "                                                                       ste_first_col_idx:ste_last_col_idx+1]):\n",
    "                eroded_img[i, j] = 1\n",
    "    return eroded_img"
   ]
  },
  {
   "cell_type": "code",
   "execution_count": null,
   "metadata": {},
   "outputs": [],
   "source": [
    "from scipy.ndimage import binary_erosion, binary_dilation"
   ]
  },
  {
   "cell_type": "code",
   "execution_count": null,
   "metadata": {},
   "outputs": [],
   "source": [
    "def check_erosion_correctness(img, st):\n",
    "    return np.array_equal(erosion(binary_img_matrix=img, structuring_element=st),\n",
    "                          binary_erosion(img, structure= st).astype('float64'))"
   ]
  },
  {
   "cell_type": "code",
   "execution_count": null,
   "metadata": {},
   "outputs": [],
   "source": [
    "def check_dilation_corrrectness(img, st):\n",
    "    return np.array_equal(dilation(binary_img_matrix=img, structuring_element=st),\n",
    "                          binary_dilation(img, structure=st).astype('float64'))"
   ]
  },
  {
   "cell_type": "code",
   "execution_count": null,
   "metadata": {},
   "outputs": [],
   "source": [
    "cv.imshow('Input', img) \n",
    "cv.imshow('Dilation', binary_dilation) \n",
    "cv.imshow('Erosion', binary_erosion) \n",
    "  \n",
    "cv.waitKey(0) "
   ]
  },
  {
   "cell_type": "code",
   "execution_count": 11,
   "metadata": {},
   "outputs": [],
   "source": [
    "thresh = cv.threshold(img, 45, 255, cv.THRESH_BINARY)"
   ]
  },
  {
   "cell_type": "code",
   "execution_count": 18,
   "metadata": {},
   "outputs": [],
   "source": [
    "cv.threshold??"
   ]
  },
  {
   "cell_type": "code",
   "execution_count": null,
   "metadata": {},
   "outputs": [],
   "source": []
  }
 ],
 "metadata": {
  "kernelspec": {
   "display_name": "Python 3",
   "language": "python",
   "name": "python3"
  },
  "language_info": {
   "codemirror_mode": {
    "name": "ipython",
    "version": 3
   },
   "file_extension": ".py",
   "mimetype": "text/x-python",
   "name": "python",
   "nbconvert_exporter": "python",
   "pygments_lexer": "ipython3",
   "version": "3.7.5"
  }
 },
 "nbformat": 4,
 "nbformat_minor": 2
}
