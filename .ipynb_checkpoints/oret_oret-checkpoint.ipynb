{
 "cells": [
  {
   "cell_type": "code",
   "execution_count": 1,
   "metadata": {},
   "outputs": [],
   "source": [
    "from convolution import Convolution as conv\n",
    "from dilation import Dilation\n",
    "from erosion import Erosion\n",
    "from rgb_to_gray import RgbToGray\n",
    "from threshold import Threshold"
   ]
  },
  {
   "cell_type": "code",
   "execution_count": 2,
   "metadata": {},
   "outputs": [],
   "source": [
    "import numpy as np\n",
    "from tqdm import tqdm\n",
    "import cv2\n",
    "import shutil\n",
    "import itertools\n",
    "import imutils\n",
    "import os"
   ]
  },
  {
   "cell_type": "code",
   "execution_count": 3,
   "metadata": {},
   "outputs": [],
   "source": [
    "import matplotlib.pyplot as plt\n",
    "import plotly.graph_objs as go\n",
    "from plotly.offline import init_notebook_mode, iplot\n",
    "from plotly import tools\n",
    "import seaborn as sns; sns.set()"
   ]
  },
  {
   "cell_type": "code",
   "execution_count": 4,
   "metadata": {},
   "outputs": [],
   "source": [
    "img_path = os.path.join(\"dataset_MRI_brain_raw\", \"yes\", \"Y108.jpg\")\n",
    "IMG_SIZE = (224, 224)"
   ]
  },
  {
   "cell_type": "code",
   "execution_count": 5,
   "metadata": {},
   "outputs": [
    {
     "data": {
      "text/plain": [
       "True"
      ]
     },
     "execution_count": 5,
     "metadata": {},
     "output_type": "execute_result"
    }
   ],
   "source": [
    "img = cv2.imread(img_path)\n",
    "# img = cv2.resize(\n",
    "#     img,\n",
    "#     dsize = IMG_SIZE,\n",
    "#     interpolation = cv2.INTER_CUBIC\n",
    "# )\n",
    "gray = RgbToGray(img).run1()\n",
    "gray = conv(gray, 'gaussian5').run()\n",
    "\n",
    "# threshold the image, then perform a series of erosions +\n",
    "# dilations to remove any small regions of noise\n",
    "thresh = Threshold(gray).run()\n",
    "\n",
    "thresh = Erosion(thresh).run()\n",
    "thresh = Erosion(thresh).run()\n",
    "\n",
    "thresh = Dilation(thresh).run()\n",
    "thresh = Dilation(thresh).run()\n",
    "\n",
    "cv2.imwrite('dilated_img.png', thresh)\n",
    "# # find contours in thresholded image, then grab the largest one\n",
    "# cnts = cv2.findContours(thresh.copy(), cv2.RETR_EXTERNAL, cv2.CHAIN_APPROX_SIMPLE)\n",
    "# cnts = imutils.grab_contours(cnts)\n",
    "# c = max(cnts, key=cv2.contourArea)\n",
    "\n",
    "# # find the extreme points\n",
    "# extLeft = tuple(c[c[:, :, 0].argmin()][0])\n",
    "# extRight = tuple(c[c[:, :, 0].argmax()][0])\n",
    "# extTop = tuple(c[c[:, :, 1].argmin()][0])\n",
    "# extBot = tuple(c[c[:, :, 1].argmax()][0])\n",
    "\n",
    "# # add contour on the image\n",
    "# img_cnt = cv2.drawContours(img.copy(), [c], -1, (0, 255, 255), 4)\n",
    "\n",
    "# # add extreme points\n",
    "# img_pnt = cv2.circle(img_cnt.copy(), extLeft, 8, (0, 0, 255), -1)\n",
    "# img_pnt = cv2.circle(img_pnt, extRight, 8, (0, 255, 0), -1)\n",
    "# img_pnt = cv2.circle(img_pnt, extTop, 8, (255, 0, 0), -1)\n",
    "# img_pnt = cv2.circle(img_pnt, extBot, 8, (255, 255, 0), -1)\n",
    "\n",
    "# # crop\n",
    "# ADD_PIXELS = 0\n",
    "# new_img = img[extTop[1]-ADD_PIXELS:extBot[1]+ADD_PIXELS, extLeft[0]-ADD_PIXELS:extRight[0]+ADD_PIXELS].copy()"
   ]
  },
  {
   "cell_type": "code",
   "execution_count": 6,
   "metadata": {},
   "outputs": [],
   "source": [
    "# plt.figure(figsize=(15,6))\n",
    "# plt.subplot(141)\n",
    "# plt.imshow(img)\n",
    "# plt.xticks([])\n",
    "# plt.yticks([])\n",
    "# plt.title('Step 1. Get the original image')\n",
    "# plt.subplot(142)\n",
    "# plt.imshow(img_cnt)\n",
    "# plt.xticks([])\n",
    "# plt.yticks([])\n",
    "# plt.title('Step 2. Find the biggest contour')\n",
    "# plt.subplot(143)\n",
    "# plt.imshow(img_pnt)\n",
    "# plt.xticks([])\n",
    "# plt.yticks([])\n",
    "# plt.title('Step 3. Find the extreme points')\n",
    "# plt.subplot(144)\n",
    "# plt.imshow(new_img)\n",
    "# plt.xticks([])\n",
    "# plt.yticks([])\n",
    "# plt.title('Step 4. Crop the image')\n",
    "# plt.show()"
   ]
  },
  {
   "cell_type": "code",
   "execution_count": null,
   "metadata": {},
   "outputs": [],
   "source": []
  }
 ],
 "metadata": {
  "kernelspec": {
   "display_name": "Python 3",
   "language": "python",
   "name": "python3"
  },
  "language_info": {
   "codemirror_mode": {
    "name": "ipython",
    "version": 3
   },
   "file_extension": ".py",
   "mimetype": "text/x-python",
   "name": "python",
   "nbconvert_exporter": "python",
   "pygments_lexer": "ipython3",
   "version": "3.7.5"
  }
 },
 "nbformat": 4,
 "nbformat_minor": 2
}
